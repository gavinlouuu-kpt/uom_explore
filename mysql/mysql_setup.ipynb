{
 "cells": [
  {
   "cell_type": "code",
   "execution_count": 1,
   "metadata": {},
   "outputs": [
    {
     "name": "stdout",
     "output_type": "stream",
     "text": [
      "Collecting mysql-connector-python\n",
      "  Downloading mysql_connector_python-9.0.0-cp311-cp311-win_amd64.whl (14.3 MB)\n",
      "     ---------------------------------------- 14.3/14.3 MB 7.6 MB/s eta 0:00:00\n",
      "Installing collected packages: mysql-connector-python\n",
      "Successfully installed mysql-connector-python-9.0.0\n"
     ]
    },
    {
     "name": "stderr",
     "output_type": "stream",
     "text": [
      "\n",
      "[notice] A new release of pip available: 22.3.1 -> 24.1.2\n",
      "[notice] To update, run: python.exe -m pip install --upgrade pip\n"
     ]
    }
   ],
   "source": [
    "!pip install mysql-connector-python"
   ]
  },
  {
   "cell_type": "code",
   "execution_count": 4,
   "metadata": {},
   "outputs": [
    {
     "name": "stdout",
     "output_type": "stream",
     "text": [
      "Database and ExperimentData table created successfully\n"
     ]
    }
   ],
   "source": [
    "def create_database_and_table():\n",
    "    try:\n",
    "        # Connect to MySQL server\n",
    "        connection = mysql.connector.connect(\n",
    "            host='localhost',\n",
    "            port='3306',\n",
    "            user='root',  # Use your MySQL user\n",
    "            password='your_password'  # Use your MySQL password\n",
    "        )\n",
    "        if connection.is_connected():\n",
    "            cursor = connection.cursor()\n",
    "\n",
    "            # Create database\n",
    "            cursor.execute(\"CREATE DATABASE IF NOT EXISTS experiment_db;\")\n",
    "            cursor.execute(\"USE experiment_db;\")\n",
    "\n",
    "            # Create table\n",
    "            create_table_query = '''\n",
    "            CREATE TABLE IF NOT EXISTS ExperimentData (\n",
    "                experiment_batch VARCHAR(255) NOT NULL,\n",
    "                experiment_id VARCHAR(255) NOT NULL,\n",
    "                channel_id INT NOT NULL,\n",
    "                heater_setting INT NOT NULL,\n",
    "                timestamp BIGINT NOT NULL,\n",
    "                sensor_value DOUBLE NOT NULL\n",
    "            );\n",
    "            '''\n",
    "            cursor.execute(create_table_query)\n",
    "            connection.commit()\n",
    "\n",
    "            print(\"Database and ExperimentData table created successfully\")\n",
    "\n",
    "            cursor.close()\n",
    "            connection.close()\n",
    "\n",
    "    except Error as e:\n",
    "        print(\"Error while creating database and table in MySQL\", e)\n",
    "\n",
    "create_database_and_table()"
   ]
  }
 ],
 "metadata": {
  "kernelspec": {
   "display_name": ".env",
   "language": "python",
   "name": "python3"
  },
  "language_info": {
   "codemirror_mode": {
    "name": "ipython",
    "version": 3
   },
   "file_extension": ".py",
   "mimetype": "text/x-python",
   "name": "python",
   "nbconvert_exporter": "python",
   "pygments_lexer": "ipython3",
   "version": "3.11.2"
  }
 },
 "nbformat": 4,
 "nbformat_minor": 2
}
